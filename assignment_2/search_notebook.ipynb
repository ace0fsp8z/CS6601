{
 "cells": [
  {
   "cell_type": "markdown",
   "metadata": {},
   "source": [
    "# Assignment 2: Graph Search\n",
    "In this assignment you will be implementing a variety of graph search algorithms, with the eventual goal of solving tridirectional search.\n",
    "\n",
    "Before you start, you will need:\n",
    "\n",
    "1. [networkx](http://networkx.github.io/), which is a package for processing networks. This assignment will be easier if you take some time to test out and get familiar with the [basic methods](https://networkx.github.io/examples.html) of networkx. We have provided a version of networkx for you to use. It is in the lib folder. Please only use that version. If you have installed networkx already, run this code on a virtualenv without networkx installed. What's a virtualenv you say? See [this](http://docs.python-guide.org/en/latest/dev/virtualenvs/).\n",
    "\n",
    "2. [matplotlib](http://matplotlib.org/downloads.html) for basic network visualization. You're free to use your own version :)\n",
    "\n",
    "3. [Python 2.7.x](https://www.python.org/downloads/) (in case you're on Python 3).\n",
    "\n",
    "We will be using two undirected networks for this assignment: a simplified [map](http://robotics.cs.tamu.edu/dshell/cs420/images/map.jpg) of Romania (from Russell and Norvig) and a full street map of Atlanta."
   ]
  },
  {
   "cell_type": "code",
   "execution_count": null,
   "metadata": {
    "collapsed": false
   },
   "outputs": [],
   "source": [
    "from __future__ import division\n",
    "import random\n",
    "import matplotlib.pyplot as plt\n",
    "import pickle\n",
    "import sys\n",
    "sys.path.append('lib')\n",
    "import networkx"
   ]
  },
  {
   "cell_type": "code",
   "execution_count": null,
   "metadata": {
    "collapsed": false
   },
   "outputs": [],
   "source": [
    "\"\"\"Romania map data from Russell and Norvig, Chapter 3.\"\"\"\n",
    "romania = pickle.load(open('romania_graph.pickle', 'rb'))\n",
    "romania.reset_search()\n",
    "print romania['a']"
   ]
  },
  {
   "cell_type": "markdown",
   "metadata": {},
   "source": [
    "Warmups\n",
    "------\n",
    "We'll start by implementing some simpler optimization and search algorithms before the real exercises."
   ]
  },
  {
   "cell_type": "markdown",
   "metadata": {},
   "source": [
    "Warmup 1: Priority queue\n",
    "----------------------\n",
    "5 points\n",
    "\n",
    "In all searches that involve calculating path cost or heuristic (e.g. uniform-cost), we have to order our search frontier. It turns out the way that we do this can impact our overall search runtime. \n",
    "\n",
    "To show this, you'll implement a [priority queue](https://en.wikipedia.org/wiki/Priority_queue) and demonstrate its performance benefits. For large graphs, sorting all input to a priority queue is impractical. As such, the datastructure you implement should have an amortized O(1) insertion and O(lg n) removal time. It should do better than the naive implementation in our tests (InsertionSortQueue), which sorts the entire list after every insertion.\n",
    "\n",
    "Hints: \n",
    "1. The [heapq](https://docs.python.org/2/library/heapq.html) module has been imported for you.\n",
    "2. Each edge has an associated weight."
   ]
  },
  {
   "cell_type": "code",
   "execution_count": null,
   "metadata": {
    "collapsed": false
   },
   "outputs": [],
   "source": [
    "import heapq\n",
    "\n",
    "class PriorityQueue():\n",
    "    \"\"\"Implementation of a priority queue \n",
    "    to store nodes during search.\"\"\"\n",
    "    # TODO: finish this class\n",
    "    \n",
    "    # HINT look up/use the module heapq.\n",
    "\n",
    "    def __init__(self):\n",
    "        self.queue = []\n",
    "        self.current = 0    \n",
    "\n",
    "    def next(self):\n",
    "        if self.current >=len(self.queue):\n",
    "            self.current\n",
    "            raise StopIteration\n",
    "    \n",
    "        out = self.queue[self.current]\n",
    "        self.current += 1\n",
    "\n",
    "        return out\n",
    "\n",
    "    def pop(self):\n",
    "        # TODO: finish this\n",
    "        raise NotImplementedError\n",
    "        \n",
    "    # TODO: This is a hint, you might require this in ucs,\n",
    "    # however, if you choose not to use it, you are free to \n",
    "    # define your own method and not use it.\n",
    "    def remove(self, nodeId):\n",
    "        raise NotImplementedError\n",
    "\n",
    "    def __iter__(self):\n",
    "        return self\n",
    "\n",
    "    def __str__(self):\n",
    "        return 'PQ:[%s]'%(', '.join([str(i) for i in self.queue]))\n",
    "\n",
    "    def append(self, node):\n",
    "        # TODO: finish this\n",
    "        raise NotImplementedError\n",
    "\n",
    "    def __contains__(self, key):\n",
    "        self.current = 0\n",
    "        return key in [n for v,n in self.queue]\n",
    "\n",
    "    def __eq__(self, other):\n",
    "        return self == other\n",
    "\n",
    "    def size(self):\n",
    "        return len(self.queue)\n",
    "    \n",
    "    def clear(self):\n",
    "        self.queue = []\n",
    "        \n",
    "    def top(self):\n",
    "        return self.queue[0]\n",
    "\n",
    "    __next__ = next"
   ]
  },
  {
   "cell_type": "code",
   "execution_count": null,
   "metadata": {
    "collapsed": true
   },
   "outputs": [],
   "source": [
    "def check_pq():\n",
    "    pq = PriorityQueue()\n",
    "    temp_list = []\n",
    "\n",
    "    for i in range(10):\n",
    "        a = random.randint(0,10000)\n",
    "        pq.append((a,'a'))\n",
    "        temp_list.append(a)\n",
    "\n",
    "    temp_list = sorted(temp_list)\n",
    "\n",
    "    for i in temp_list:\n",
    "        j = pq.pop()\n",
    "        if not i == j[0]:\n",
    "            return False\n",
    "\n",
    "    return True\n",
    "\n",
    "check_pq()"
   ]
  },
  {
   "cell_type": "markdown",
   "metadata": {},
   "source": [
    "Warm-up 2: BFS\n",
    "----------\n",
    "5 pts\n",
    "\n",
    "\n",
    "To get you started with handling graphs in networkx, implement and test breadth-first search over the test network.\n",
    "\n",
    "You'll do complete this by writing the \"breadth_first_search\" method. This returns a path of nodes from a given start node to a given end node, as a list.\n",
    "\n",
    "For this part, it is optional to use the PriorityQueue as your frontier. You will require it from the next question onwards. You can use it here too if you want to be consistent.\n",
    "\n",
    "Notes:\n",
    "1. You need to include start and goal in the path.\n",
    "2. If your start and goal are the same then just return [].\n",
    "\n",
    "Both of the above are just to keep your results consistent with our test cases.\n",
    "\n",
    "You can access all the neighbors of a given node by calling graph[node], or graph.neighbors(node) ONLY. To measure your search performance, the modified version of networkx provided keeps track of which nodes you have accessed in this way (this is referred to as the set of 'Explored' nodes). To retrieve the set of nodes you've explored in this way, call graph.get_explored_nodes(). If you wish to perform multiple searches on the same graph instance, call 'graph.reset_search()' to clear out the current set of 'Explored' nodes. Note however, that you will not have access to the explored set on the test server. Also, there is no need to reset the graph while submitting to the test server."
   ]
  },
  {
   "cell_type": "code",
   "execution_count": null,
   "metadata": {
    "collapsed": true
   },
   "outputs": [],
   "source": [
    "def breadth_first_search(graph, start, goal):\n",
    "    \"\"\"Run a breadth-first search from start\n",
    "    to goal and return the path.\"\"\"\n",
    "    # TODO: finish this function!\n",
    "    raise NotImplementedError\n",
    "    # return path"
   ]
  },
  {
   "cell_type": "code",
   "execution_count": null,
   "metadata": {
    "collapsed": true
   },
   "outputs": [],
   "source": [
    "# This function exists to help you visually debug your code.\n",
    "# Feel free to modify it in any way you like.\n",
    "# graph should be a networkx graph\n",
    "# node_positions should be a dictionary mapping nodes to x,y coordinates\n",
    "\n",
    "# IMP - This function may modify the graph you pass to it.\n",
    "def draw_graph(graph, node_positions={}, start=None, goal=None, path=[]):\n",
    "\n",
    "    explored = list(graph.get_explored_nodes())\n",
    "    \n",
    "    labels ={}\n",
    "    for node in graph:\n",
    "        labels[node]=node\n",
    "        \n",
    "    if not node_positions:\n",
    "        node_positions = networkx.spring_layout(graph)\n",
    "\n",
    "    networkx.draw_networkx_nodes(graph, node_positions)\n",
    "    networkx.draw_networkx_edges(graph, node_positions, style='dashed')\n",
    "    networkx.draw_networkx_labels(graph,node_positions, labels)\n",
    "    \n",
    "    networkx.draw_networkx_nodes(graph, node_positions, nodelist=explored, node_color='g') \n",
    "\n",
    "    if path:\n",
    "        edges = [(path[i], path[i+1]) for i in range(0, len(path)-1)]\n",
    "        networkx.draw_networkx_edges(graph, node_positions, edgelist=edges, edge_color='b')\n",
    "   \n",
    "    if start:\n",
    "        networkx.draw_networkx_nodes(graph, node_positions, nodelist=[start], node_color='b')\n",
    "    \n",
    "    if goal:\n",
    "        networkx.draw_networkx_nodes(graph, node_positions, nodelist=[goal], node_color='y')\n",
    "\n",
    "    plt.plot()\n",
    "    plt.show()"
   ]
  },
  {
   "cell_type": "code",
   "execution_count": null,
   "metadata": {
    "collapsed": false
   },
   "outputs": [],
   "source": [
    "\"\"\"Testing and visualizing breadth-first search\n",
    "in the notebook.\"\"\"\n",
    "start = 'a'\n",
    "goal = 'u'\n",
    "\n",
    "node_positions = {n: romania.node[n]['pos'] for n in romania.node.keys()}\n",
    "\n",
    "romania.reset_search()\n",
    "path = breadth_first_search(romania, start, goal)\n",
    "\n",
    "draw_graph(romania, node_positions=node_positions, start=start, goal=goal, path=path)"
   ]
  },
  {
   "cell_type": "markdown",
   "metadata": {},
   "source": [
    "Warmup Examples\n",
    "----------\n",
    "\n",
    "Some examples of correct warmup searches can be found [here](https://docs.google.com/document/d/18Bl7awruAabUXAhMy-T88hWKTteueEb7hk6gA32GulQ/pub).\n",
    "\n",
    "\n"
   ]
  },
  {
   "cell_type": "markdown",
   "metadata": {},
   "source": [
    "Warmup 3: Uniform-cost search\n",
    "----------------------------\n",
    "10 points\n",
    "\n",
    "Implement uniform-cost search, using PriorityQueue as your frontier. From now on, PriorityQueue should be your default frontier.\n",
    "\n",
    "uniform_cost_search() should return the same arguments as breadth-first search: the path to the goal node (as a list of nodes).\n",
    "\n",
    "\n",
    "Notes:\n",
    "1. You do need to include start and goal in the path.\n",
    "2. If your start and goal are the same then just return []\n",
    "3. We will provide some margin of error in grading the size of your 'Explored' set, but it should be close to the results provided by our reference implementation.\n",
    "\n",
    "The above are just to keep your results consistent with our test cases."
   ]
  },
  {
   "cell_type": "code",
   "execution_count": null,
   "metadata": {
    "collapsed": true
   },
   "outputs": [],
   "source": [
    "def uniform_cost_search(graph, start, goal):\n",
    "    \"\"\"Run uniform-cost search from start\n",
    "    to goal and return the path\"\"\"\n",
    "    # TODO: finish this function\n",
    "    raise NotImplementedError\n",
    "    # return path"
   ]
  },
  {
   "cell_type": "markdown",
   "metadata": {},
   "source": [
    "Warmup 4: A\\* search\n",
    "------------------\n",
    "10 points\n",
    "Implement A\\* search using Euclidean distance as your heuristic. You'll need to implement heuristic_euclid() then pass that function to a_star() as the heuristic parameter. We provide null_heuristic() as a baseline heuristic to test against when calling a_star tests.\n",
    "\n",
    "Hint: you can find a node's position by calling:\n",
    "\n",
    "     graph.node[n]['pos']      - Romania map\n",
    "     graph.node[n]['position'] - Atlanta map\n",
    "     \n",
    "Tip: use graph.node[n].get('position') or graph.node[n].get('pos') to check if the key is available.\n",
    "\n",
    "Notes:\n",
    "1. You do need to include start and goal in the path.\n",
    "2. If your start and goal are the same then just return []\n",
    "3. We will provide some margin of error in grading the size of your 'Explored' set, but it should be close to the results provided by our reference implementation.\n",
    "\n",
    "The above are just to keep your results consistent with our test cases."
   ]
  },
  {
   "cell_type": "code",
   "execution_count": null,
   "metadata": {
    "collapsed": true
   },
   "outputs": [],
   "source": [
    "def null_heuristic(graph, v, goal):\n",
    "    \"\"\"Return 0 for all nodes.\"\"\"\n",
    "    return 0"
   ]
  },
  {
   "cell_type": "code",
   "execution_count": null,
   "metadata": {
    "collapsed": true
   },
   "outputs": [],
   "source": [
    "def euclidean_dist_heuristic(graph, v, goal):\n",
    "    \"\"\"Return the Euclidean distance from\n",
    "    node v to the goal.\"\"\"\n",
    "    # TODO: finish this function\n",
    "    raise NotImplementedError"
   ]
  },
  {
   "cell_type": "code",
   "execution_count": null,
   "metadata": {
    "collapsed": true
   },
   "outputs": [],
   "source": [
    "def a_star(graph, start, goal, heuristic):\n",
    "    \"\"\"Run A* search from the start to\n",
    "    goal using the specified heuristic\n",
    "    function, and return the final path.\"\"\"\n",
    "    # TODO: finish this function\n",
    "    raise NotImplementedError\n",
    "    # return path"
   ]
  },
  {
   "cell_type": "markdown",
   "metadata": {},
   "source": [
    "Exercises\n",
    "-------\n",
    "\n",
    "\n",
    "The following exercises will require you to implement several kinds of bidirectional and tridirectional searches.\n",
    "\n",
    "The benefits of these algorithms over uninformed or unidirectional search are more clearly seen on larger graphs. As such, during grading, we will evaluate your performance on the map of Atlanta [OpenStreetMap](wiki.openstreetmap.org/) included in this assignment. If you want to run tests in iPython notebook using this data (rather than just testing on the server), you'll need to load the data from file in the cell below. If you're testing locally, be advised, not all nodes are connected."
   ]
  },
  {
   "cell_type": "code",
   "execution_count": null,
   "metadata": {
    "collapsed": false
   },
   "outputs": [],
   "source": [
    "from osm2networkx import *\n",
    "\"\"\"Loading Atlanta map data.\"\"\"\n",
    "atlanta = pickle.load(open('atlanta_osm.pickle','rb'))\n",
    "atlanta.reset_search()"
   ]
  },
  {
   "cell_type": "markdown",
   "metadata": {},
   "source": [
    "Visualizing search results\n",
    "---\n",
    "\n",
    "When using a geographic network, you may want to visualize your searches. We can do this by converting the search results to a [GeoJSON](https://en.wikipedia.org/wiki/GeoJSON) file which we then visualize on [Gist](https://gist.github.com/) by [importing](https://github.com/blog/1576-gist-meets-geojson) the file.\n",
    "\n",
    "We provide a method for doing this in visualize_graph.py called plot_search(), which takes as parameters the graph, the name of the file to write, the nodes on the path, and the set of all nodes explored. This produces a GeoJSON file named as specified, which you can upload to Gist to visualize the search path and explored nodes."
   ]
  },
  {
   "cell_type": "code",
   "execution_count": null,
   "metadata": {
    "collapsed": false
   },
   "outputs": [],
   "source": [
    "\"\"\"Example of how to visualize search results\n",
    "with two sample nodes in Atlanta.\"\"\"\n",
    "from visualize_graph import plot_search\n",
    "# NOTE: *** Please complete the  bidirectional_ucs before this.***\n",
    "# You can try visualization with any other search methods completed above too.\n",
    "atlanta.reset_search()\n",
    "path = bidirectional_ucs(atlanta, '69244359', '557989279')\n",
    "all_explored = atlanta.get_explored_nodes()\n",
    "plot_search(atlanta, 'atlanta_search.json', path, all_explored)\n",
    "# then upload 'atlanta_search.json' to Gist"
   ]
  },
  {
   "cell_type": "markdown",
   "metadata": {},
   "source": [
    "Exercise 1: Bidirectional uniform-cost search\n",
    "-------\n",
    "15 points\n",
    "\n",
    "Implement bidirectional uniform-cost search. Remember that this requires starting your search at both the start and end states.\n",
    "\n",
    "bidirectional_ucs() should return the path from the start node to the goal node (as a list of nodes).\n",
    "\n",
    "Notes:\n",
    "\n",
    "    1) You do need to include start and goal in the path.\n",
    "    2) If your start and goal are the same then just return []\n",
    "    3) We will provide some margin of error in grading the size of your 'Explored' set, but it should be close to the results provided by our reference implementation.\n",
    " \n",
    "\n",
    "All of the above are just to keep your results consistent with our test cases."
   ]
  },
  {
   "cell_type": "code",
   "execution_count": null,
   "metadata": {
    "collapsed": true
   },
   "outputs": [],
   "source": [
    "def bidirectional_ucs(graph, start, goal):\n",
    "    \"\"\"Run bidirectional uniform-cost search\n",
    "    between start and goal\"\"\"\n",
    "    # TODO: finish this function\n",
    "    raise NotImplementedError\n",
    "#     return path"
   ]
  },
  {
   "cell_type": "markdown",
   "metadata": {},
   "source": [
    "Exercise 2: Bidirectional A\\* search\n",
    "-------\n",
    "20 points\n",
    "\n",
    "Implement bidirectional A\\* search. Remember that you need to calculate a heuristic for both the start-to-goal search and the goal-to-start search.\n",
    "\n",
    "To test this function, as well as using the provided tests, you can compare the path computed by bidirectional A star to bidirectional ucs search above.\n",
    "\n",
    "bidirectional_a_star should return the path from the start node to the goal node, as a list of nodes.\n",
    "\n",
    "Notes:\n",
    "\n",
    "    1) You do need to include start and goal in the path.\n",
    "    2) If your start and goal are the same then just return []\n",
    "    3) We will provide some margin of error in grading the size of your 'Explored' set, but it should be close to the results provided by our reference implementation.\n"
   ]
  },
  {
   "cell_type": "code",
   "execution_count": null,
   "metadata": {
    "collapsed": true
   },
   "outputs": [],
   "source": [
    "def bidirectional_a_star(graph, start, goal, heuristic):\n",
    "    \"\"\"Run bidirectional A* search between\n",
    "    start and goal.\"\"\"\n",
    "    # TODO: finish this function\n",
    "    raise NotImplementedError\n",
    "    #return path"
   ]
  },
  {
   "cell_type": "markdown",
   "metadata": {},
   "source": [
    "Exercise 3: Tridirectional search\n",
    "------\n",
    "20 points\n",
    "\n",
    "Implement tridirectional search in the naive way: starting from each goal node, perform a uniform-cost search and keep expanding until two of the three searches meet. This should be one continuous path that connects all three nodes. You can return the path in any order. Eg. (1->2->3 == 3->2->1)\n",
    "\n",
    "tridirectional_search should return the path from the start node to the goal node (as a list of nodes).\n",
    "\n",
    "Notes:\n",
    "\n",
    "    1) You need to include start and goal in the path.\n",
    "    2) If any goals are the same then just return [] as the path between them.\n",
    "    3) We will provide some margin of error in grading the size of your 'Explored' set, but it should be close to the results provided by our reference implementation.\n"
   ]
  },
  {
   "cell_type": "code",
   "execution_count": null,
   "metadata": {
    "collapsed": true
   },
   "outputs": [],
   "source": [
    "def tridirectional_search(graph, goals):\n",
    "    \"\"\"Run tridirectional uniform-cost search\n",
    "    between the goals and return the path.\"\"\"\n",
    "    # TODO: finish this function\n",
    "    raise NotImplementedError\n",
    "    #return path"
   ]
  },
  {
   "cell_type": "markdown",
   "metadata": {},
   "source": [
    "Exercise 4: Tridirectional search\n",
    "------\n",
    "15 points\n",
    "\n",
    "This is the heart of the assignment. Implement tridirectional search in such a way as to consistently improve on the performance of your previous implementation. This means consistently exploring fewer nodes during your search in order to reduce runtime.\n",
    "\n",
    "The specifics are up to you, but we have a few suggestions:\n",
    "- Tridirectional A*\n",
    "- choosing landmarks and precomputing reach values\n",
    "- ATL (A\\*, landmarks, and triangle-inequality)\n",
    "- shortcuts (skipping nodes with low reach values)\n",
    "\n",
    "tridirectional_upgraded() should return a path between all three nodes.\n",
    "\n",
    "Notes:\n",
    "\n",
    "    1) You do need to include each goal in the path.\n",
    "    2) If any two goals are the same then just return [] as the path between them\n",
    "    3) We will provide some margin of error in grading the size of your 'Explored' set, but it should be close to the results provided by our reference implementation."
   ]
  },
  {
   "cell_type": "code",
   "execution_count": null,
   "metadata": {
    "collapsed": true
   },
   "outputs": [],
   "source": [
    "def tridirectional_upgraded(graph, goals, heuristic):\n",
    "    \"\"\"Run an improved tridirectional search between\n",
    "    goals, and return the path.\"\"\"\n",
    "    # TODO: finish this function\n",
    "    raise NotImplementedError\n",
    "    #return path"
   ]
  },
  {
   "cell_type": "markdown",
   "metadata": {},
   "source": [
    "Race!\n",
    "---\n",
    "Here's your chance to show us your best stuff. This part is mandatory if you want to compete in the race for extra credit. Implement custom_search() using whatever strategy you like. Your search should be tri-directional and it'll be tested on the Atlanta map only."
   ]
  },
  {
   "cell_type": "code",
   "execution_count": null,
   "metadata": {
    "collapsed": true
   },
   "outputs": [],
   "source": [
    "def custom_search(graph, goals):\n",
    "    \"\"\"Run your best tridirectional search between\n",
    "    goals, and return the path.\"\"\"\n",
    "    raise NotImplementedError\n",
    "    # return path"
   ]
  }
 ],
 "metadata": {
  "kernelspec": {
   "display_name": "Python 2",
   "language": "python",
   "name": "python2"
  },
  "language_info": {
   "codemirror_mode": {
    "name": "ipython",
    "version": 2
   },
   "file_extension": ".py",
   "mimetype": "text/x-python",
   "name": "python",
   "nbconvert_exporter": "python",
   "pygments_lexer": "ipython2",
   "version": "2.7.10"
  }
 },
 "nbformat": 4,
 "nbformat_minor": 0
}
