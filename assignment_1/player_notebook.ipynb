{
 "cells": [
  {
   "cell_type": "markdown",
   "metadata": {},
   "source": [
    "# Isolation\n",
    "\n",
    "This IPython notebook contains the skeletons of the player class and eval function classes that you need to fill out. In addition, we have included the `RandomPlayer` and `HumanPlayer` classes for you to test against.\n",
    "\n",
    "## Submitting\n",
    "\n",
    "When you are ready to submit, copy code from the following classes into the attached `player_submission.py`:\n",
    "\n",
    "1. OpenMoveEvalFn\n",
    "1. CustomEvalFn\n",
    "1. CustomPlayer\n",
    "\n",
    "Please do not copy any code that is not part of those classes. You may be tempted to simply export a python file from this notebook and use that as a submission; please **DO NOT** do that. We need to be certain that code unprotected by a *main* test (any tests that you might want to write) do not get accidentally executed. "
   ]
  },
  {
   "cell_type": "markdown",
   "metadata": {},
   "source": [
    "## Helper Player classes\n",
    "\n",
    "We include 2 player types for you to test against locally:\n",
    "\n",
    "- `RandomPlayer` - chooses a legal move randomly from among the available legal moves\n",
    "- `HumanPlayer` - allows *YOU* to play against the AI\n",
    "\n",
    "**DO NOT** submit.\n",
    "\n",
    "You are however free to change these classes as you see fit. Know that any changes you make will be solely for the benefit of your own tests."
   ]
  },
  {
   "cell_type": "code",
   "execution_count": null,
   "metadata": {
    "collapsed": true
   },
   "outputs": [],
   "source": [
    "from random import randint\n",
    "\n",
    "class RandomPlayer():\n",
    "    \"\"\"Player that chooses a move randomly.\"\"\"    \n",
    "\n",
    "    def move(self, game, legal_moves, time_left):\n",
    "        if not legal_moves: return (-1,-1)        \n",
    "        num=randint(game.__active_players_queen1__,game.__active_players_queen2__)\n",
    "        if not len(legal_moves[num]):\n",
    "            num = game.__active_players_queen1__ if num == game.__active_players_queen2__ else game.__active_players_queen2__\n",
    "            if not len(legal_moves[num]):\n",
    "                return (-1,-1),num\n",
    "        \n",
    "        moves=legal_moves[num][randint(0,len(legal_moves[num])-1)]\n",
    "        return moves,num\n",
    "    \n"
   ]
  },
  {
   "cell_type": "code",
   "execution_count": null,
   "metadata": {
    "collapsed": true
   },
   "outputs": [],
   "source": [
    "class HumanPlayer():\n",
    "    \"\"\"Player that chooses a move according to\n",
    "    user's input.\"\"\"\n",
    "    def move(self, game, legal_moves, time_left):\n",
    "        i=0\n",
    "        choice = {}\n",
    "        if not len(legal_moves[game.__active_players_queen1__]) and not len(legal_moves[game.__active_players_queen2__]):\n",
    "            return None, None\n",
    "        for queen in legal_moves:\n",
    "                for move in legal_moves[queen]:        \n",
    "                    choice.update({i:(queen,move)})\n",
    "                    print('\\t'.join(['[%d] q%d: (%d,%d)'%(i,queen,move[0],move[1])] ))\n",
    "                    i=i+1\n",
    "        \n",
    "        \n",
    "        valid_choice = False\n",
    "        while not valid_choice:\n",
    "            try:\n",
    "                index = int(input('Select move index:'))\n",
    "                valid_choice = 0 <= index < i\n",
    "\n",
    "                if not valid_choice:\n",
    "                    print('Illegal move! Try again.')\n",
    "            \n",
    "            except ValueError:\n",
    "                print('Invalid index! Try again.')\n",
    "        \n",
    "        return choice[index][1],choice[index][0]"
   ]
  },
  {
   "cell_type": "markdown",
   "metadata": {},
   "source": [
    "## Evaluation Functions\n",
    "\n",
    "These functions will inform the value judgements your AI will make when choosing moves. There are 2 classes:\n",
    "\n",
    "- `OpenMoveEvalFn` - Scores the maximum number of available moves open for computer player minus the maximum number of moves open for opponent player. All baseline tests will use this function. **This is mandatory**\n",
    "- `CustomEvalFn` - You are encouraged to create your own evaluation function here.\n",
    "\n",
    "**DO** submit code within the classes (and only that within the classes).\n",
    "\n",
    "### Tips\n",
    "\n",
    "1. You may write additional code within each class. However, we will only be invoking the `score()` function. You may not change the signature of this function.\n",
    "1. When writing additional code to test, try to do so in separate cells. It allows for independent test execution and you can be sure that *all* the code within the EvalFn cells belong only to the EvalFn classes"
   ]
  },
  {
   "cell_type": "code",
   "execution_count": null,
   "metadata": {
    "collapsed": true
   },
   "outputs": [],
   "source": [
    "class OpenMoveEvalFn():\n",
    "    \"\"\"Evaluation function that outputs a \n",
    "    score equal to how many moves are open\n",
    "    for AI player on the board \n",
    "    minus the moves open for opponent player.\"\"\"\n",
    "    def score(self, game, maximizing_player_turn=True):\n",
    "        # TODO: finish this function!\n",
    "        return eval_func\n",
    "        \n",
    "        "
   ]
  },
  {
   "cell_type": "code",
   "execution_count": null,
   "metadata": {
    "collapsed": true
   },
   "outputs": [],
   "source": [
    "class CustomEvalFn():\n",
    "    \"\"\"Custom evaluation function that acts\n",
    "    however you think it should. This is not\n",
    "    required but highly encouraged if you\n",
    "    want to build the best AI possible.\"\"\"\n",
    "    def score(self, game, maximizing_player_turn=True):\n",
    "        # TODO: finish this function!\n",
    "        return eval_func"
   ]
  },
  {
   "cell_type": "markdown",
   "metadata": {},
   "source": [
    "### Tests\n",
    "\n",
    "We've included some sample code to test the evaluation functions. Change as you see fit. **DO NOT** submit."
   ]
  },
  {
   "cell_type": "code",
   "execution_count": null,
   "metadata": {
    "collapsed": false
   },
   "outputs": [],
   "source": [
    "\"\"\"Example test you can run\n",
    "to make sure your basic evaluation\n",
    "function works.\"\"\"\n",
    "from isolation import Board\n",
    "\n",
    "if __name__ == \"__main__\":\n",
    "    sample_board = Board(RandomPlayer(),RandomPlayer())\n",
    "    # setting up the board as though we've been playing\n",
    "    sample_board.move_count = 4\n",
    "    sample_board.__board_state__ = [\n",
    "                [11,0,0,0,21,0,0],\n",
    "                [0,0,0,0,0,0,0],\n",
    "                [0,0,22,0,0,0,0],\n",
    "                [0,0,0,0,0,0,0],\n",
    "                [0,0,0,0,0,12,0],\n",
    "                [0,0,0,0,0,0,0],\n",
    "                [0,0,0,0,0,0,0]\n",
    "    ]\n",
    "    sample_board.__last_queen_move__ = {sample_board.queen_11: (0,0), sample_board.queen_12: (4,5),\n",
    "                                        sample_board.queen_21: (0,4), sample_board.queen_22: (2,2)}\n",
    "    h = OpenMoveEvalFn()\n",
    "    print('This board has a score of %s.'%(h.score(sample_board)))\n",
    "    # the answer should be maximum computer player moves - maximum opponent player moves available."
   ]
  },
  {
   "cell_type": "markdown",
   "metadata": {},
   "source": [
    "## CustomPlayer\n",
    "\n",
    "This is the meat of the assignment. A few notes about the class:\n",
    "\n",
    "- You are not permitted to change the function signatures of any of the provided methods.\n",
    "- You are permitted to change the default values within the function signatures provided. In fact, when you have your custom evaluation function, you are encouraged to change the default values for `__init__` to use the new eval function.\n",
    "- You are free change the contents of each of the provided methods. When you are ready with `alphabeta()`, for example, you are encouraged to update `move()` to use that function instead.\n",
    "- You are free to add more methods to the class.\n",
    "- You may not create additional external functions and classes that are referenced from within this class.\n",
    "\n",
    "**DO** submit the code within this class (and only the code within this class)."
   ]
  },
  {
   "cell_type": "code",
   "execution_count": null,
   "metadata": {
    "collapsed": false
   },
   "outputs": [],
   "source": [
    "class CustomPlayer():\n",
    "    # TODO: finish this class!\n",
    "    \"\"\"Player that chooses a move using \n",
    "    your evaluation function and \n",
    "    a depth-limited minimax algorithm \n",
    "    with alpha-beta pruning.\n",
    "    You must finish and test this player\n",
    "    to make sure it properly uses minimax\n",
    "    and alpha-beta to return a good move\n",
    "    in less than 5 seconds.\"\"\"\n",
    "    def __init__(self,  search_depth=3, eval_fn=OpenMoveEvalFn()):\n",
    "        # if you find yourself with a superior eval function, update the\n",
    "        # default value of `eval_fn` to `CustomEvalFn()`\n",
    "        self.eval_fn = eval_fn\n",
    "        self.search_depth = search_depth\n",
    "\n",
    "    \n",
    "    def move(self, game, legal_moves, time_left):\n",
    "        best_move,best_queen, utility = self.minimax(game,time_left, depth=self.search_depth)   \n",
    "        #change minimax to alphabeta after completing alphabeta part of assignment \n",
    "        return best_move, best_queen \n",
    "\n",
    "\n",
    "    def utility(self, game):\n",
    "        \"\"\"TODO: Update this function to calculate the utility of a game state\"\"\"\n",
    "        return self.eval_fn.score(game)\n",
    "\n",
    "\n",
    "    def minimax(self, game, time_left, depth=float(\"inf\"), maximizing_player=True):\n",
    "        # TODO: finish this function!\n",
    "        return best_move,best_queen, best_val\n",
    "\n",
    "    def alphabeta(self, game, time_left, depth=float(\"inf\"), alpha=float(\"-inf\"), beta=float(\"inf\"), maximizing_player=True):\n",
    "        # TODO: finish this function!\n",
    "        return best_move, best_queen, val\n"
   ]
  },
  {
   "cell_type": "markdown",
   "metadata": {},
   "source": [
    "### Tests\n",
    "\n",
    "We've included some code to help you test your player as well as to give you an idea of how the players are invoked. Feel free to play around with the code and add more tests.\n",
    "\n",
    "**DO NOT** submit."
   ]
  },
  {
   "cell_type": "code",
   "execution_count": null,
   "metadata": {
    "collapsed": false
   },
   "outputs": [],
   "source": [
    "\"\"\"Example test to make sure\n",
    "your minimax works, using the\n",
    "#computer_player_moves - opponent_moves evaluation function.\"\"\"\n",
    "from isolation import Board, game_as_text\n",
    "\n",
    "if __name__ == \"__main__\":\n",
    "    # create dummy 3x3 board\n",
    "\n",
    "    p1 = RandomPlayer()\n",
    "    p2 = RandomPlayer()\n",
    "    #p2 = CustomPlayer2( search_depth=3)\n",
    "    #p2 = HumanPlayer()\n",
    "    b = Board(p1,p2,5,5)\n",
    "    b.__board_state__ = [\n",
    "        [0,21,0,0,0],\n",
    "        [0,0,11,0,0],\n",
    "        [0,0,12,0,0],\n",
    "        [0,0,0,0,0],\n",
    "        [0,22,0,0,0]\n",
    "    ]\n",
    "    b.__last_queen_move__[\"queen11\"] = (1,2)\n",
    "    b.__last_queen_move__[\"queen21\"] = (0,1)\n",
    "    b.__last_queen_move__[\"queen12\"] = (2,2)\n",
    "    b.__last_queen_move__[\"queen22\"] = (4,1)\n",
    "\n",
    "    b.move_count = 4\n",
    "\n",
    "    output_b = b.copy()\n",
    "    winner, move_history,queen_history, termination = b.play_isolation()\n",
    "    print (game_as_text(winner, move_history,queen_history, termination, output_b))\n",
    "    "
   ]
  },
  {
   "cell_type": "code",
   "execution_count": null,
   "metadata": {
    "collapsed": false
   },
   "outputs": [],
   "source": [
    "\"\"\"Example test you can run\n",
    "to make sure your AI does better\n",
    "than random.\"\"\"\n",
    "from isolation import Board,game_as_text\n",
    "\n",
    "if __name__ == \"__main__\":\n",
    "    r = RandomPlayer()\n",
    "    h = RandomPlayer()\n",
    "    game = Board(r,h,7,7)\n",
    "    output_b = game.copy()\n",
    "    winner, move_history,queen_history, termination = game.play_isolation()  \n",
    "    print (game_as_text(winner, move_history,queen_history, termination, output_b))"
   ]
  },
  {
   "cell_type": "code",
   "execution_count": null,
   "metadata": {
    "collapsed": true
   },
   "outputs": [],
   "source": []
  }
 ],
 "metadata": {
  "anaconda-cloud": {},
  "kernelspec": {
   "display_name": "Python [Root]",
   "language": "python",
   "name": "Python [Root]"
  },
  "language_info": {
   "codemirror_mode": {
    "name": "ipython",
    "version": 3
   },
   "file_extension": ".py",
   "mimetype": "text/x-python",
   "name": "python",
   "nbconvert_exporter": "python",
   "pygments_lexer": "ipython3",
   "version": "3.5.2"
  },
  "widgets": {
   "state": {},
   "version": "1.1.2"
  }
 },
 "nbformat": 4,
 "nbformat_minor": 0
}
